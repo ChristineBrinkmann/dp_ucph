{
 "cells": [
  {
   "cell_type": "code",
   "execution_count": 9,
   "metadata": {},
   "outputs": [
    {
     "name": "stdout",
     "output_type": "stream",
     "text": [
      "The autoreload extension is already loaded. To reload it, use:\n",
      "  %reload_ext autoreload\n"
     ]
    },
    {
     "name": "stderr",
     "output_type": "stream",
     "text": [
      "/var/folders/m8/jg5944xs04x6nwyq75j1wxmw0000gn/T/ipykernel_98500/3006719746.py:8: MatplotlibDeprecationWarning: The seaborn styles shipped by Matplotlib are deprecated since 3.6, as they no longer correspond to the styles shipped by seaborn. However, they will remain available as 'seaborn-v0_8-<style>'. Alternatively, directly use the seaborn API instead.\n",
      "  plt.style.use('seaborn-whitegrid')\n"
     ]
    }
   ],
   "source": [
    "# magics: ensures that any changes to the modules loaded below will be re-loaded automatically\n",
    "%load_ext autoreload\n",
    "%autoreload 2\n",
    "\n",
    "# Load package \n",
    "import numpy as np\n",
    "import matplotlib.pyplot as plt\n",
    "plt.style.use('seaborn-whitegrid')\n",
    "\n",
    "import Exercise_1 as ex1"
   ]
  },
  {
   "cell_type": "markdown",
   "metadata": {},
   "source": [
    "<h1> Exercise 2: The Infinite Horizon Consumption Model"
   ]
  },
  {
   "cell_type": "markdown",
   "metadata": {},
   "source": [
    "Consider again the simplest consumption-saving model but with an infinite time horizon:\n",
    "\n",
    "$$\\begin{align*}\n",
    "    V_1^*(W_1) &= \\max_{c_1,c_2,\\dots} \\{ \\sqrt{c_1} +\\beta \\sqrt{c_2}+\\beta^2\\sqrt{c_3}+\\cdots \\} \\\\\n",
    "    & \\text{s.t.} \\\\\n",
    "    W_{t+1} & = W_{t}-c_{t} \\\\\n",
    "    c_{t} & \\leq  W_{t} , \\,\\forall t\\\\\n",
    "    c_{t} & \\in  \\mathbb{R}_+, \\,\\forall t\n",
    "\\end{align*}$$\n",
    "for $\\beta =0.9$ and $W_1=5$.\n",
    "\n",
    "\n",
    "\n",
    "Notice, we can rewrite the first equation as a Bellman equation:\n",
    "\n",
    "$$\\begin{align}\n",
    "    V^*(W_t) &=\\sqrt{c_t} +\\beta V^*(\\underbrace{W_{t}-c_t}_{W_{t+1}}), \\forall t\n",
    "\\end{align}$$\n"
   ]
  },
  {
   "cell_type": "markdown",
   "metadata": {},
   "source": [
    "### 1. Solve the model using value function iteration (VFI): "
   ]
  },
  {
   "cell_type": "code",
   "execution_count": 8,
   "metadata": {},
   "outputs": [
    {
     "name": "stdout",
     "output_type": "stream",
     "text": [
      "[0.     1.     1.9    2.71   3.439  4.0951]\n"
     ]
    }
   ],
   "source": [
    "# Setup\n",
    "beta = 0.90\n",
    "W = 5\n",
    "grid_W = np.arange(W+1)\n",
    "Cstar = np.zeros([W+1])\n",
    "\n",
    "# Parameters for VFI\n",
    "max_iter = 200   # maximum number of iterations\n",
    "delta = 1000 #difference between V_next and V_now\n",
    "tol = 10e-2 #convergence tol. level\n",
    "it = 0  #iteration counter \n",
    "V_now = np.zeros([W+1]) #arbitrary starting values\n",
    "\n",
    "while (max_iter>= it and tol<delta):\n",
    "    it = it+1\n",
    "    V_next = V_now.copy()\n",
    "    for w in range(W+1):\n",
    "        c = np.arange(w+1)\n",
    "        w_c = w - c\n",
    "        V_guess = np.sqrt(c)+beta*V_next[w_c]\n",
    "        V_now[w] = np.amax(V_guess)\n",
    "        Cstar[w] = np.argmax(V_guess)\n",
    "    delta = np.amax(np.abs(V_now - V_next))\n",
    "\n",
    "print(V_now)"
   ]
  },
  {
   "cell_type": "markdown",
   "metadata": {},
   "source": [
    "### 2. Fill in Exercise_2.py with a function with par as input. Par should contain $\\beta$ and $W$. Solve the model for $\\beta=0.9$ and $W=20$."
   ]
  },
  {
   "cell_type": "code",
   "execution_count": 10,
   "metadata": {},
   "outputs": [
    {
     "data": {
      "text/plain": [
       "array([0., 1., 1., 1., 1., 1., 1., 1., 1., 1., 2., 2., 2., 2., 2., 3., 3.,\n",
       "       3., 3., 3., 4.])"
      ]
     },
     "execution_count": 10,
     "metadata": {},
     "output_type": "execute_result"
    }
   ],
   "source": [
    "# Setup specifications in class. Defining a class is a neat way to access the parameters.\n",
    "class par: pass\n",
    "par.beta = 0.90\n",
    "par.W = 20\n",
    "par.max_iter = 200   # maximum number of iterations\n",
    "par.tol = 10e-2 #convergence tol. level\n",
    "\n",
    "#Check that the function works\n",
    "from Exercise_2 import solve_VFI\n",
    "\n",
    "sol = solve_VFI(par)\n",
    "Cstar, Vstar, _ = sol.C, sol.V, sol.it\n",
    "Cstar"
   ]
  },
  {
   "cell_type": "markdown",
   "metadata": {},
   "source": [
    "### 3. Plot the converged value function and make sure the value function is increasing in $W$."
   ]
  },
  {
   "cell_type": "code",
   "execution_count": 11,
   "metadata": {},
   "outputs": [
    {
     "data": {
      "image/png": "[encoded data removed]",
      "text/plain": [
       "<Figure size 2000x500 with 1 Axes>"
      ]
     },
     "metadata": {},
     "output_type": "display_data"
    }
   ],
   "source": [
    "fig = plt.figure(figsize=(20,5))# figsize is in inches...\n",
    "\n",
    "ax = fig.add_subplot(1,2,1)\n",
    "ax.plot(np.arange(par.W+1),Vstar)\n",
    "ax.set_xlabel(f\"$W$\")\n",
    "ax.set_ylabel(f\"$V^\\star$\")\n",
    "ax.set_title(f'Value function')\n",
    "\n",
    "plt.show()"
   ]
  },
  {
   "cell_type": "markdown",
   "metadata": {},
   "source": [
    "### 4. For $T=10$, $\\beta=0.9$  and $W=20$ compare your solution using backward induction from exercise 1 with VFI. *How do the solutions differ?* "
   ]
  },
  {
   "cell_type": "code",
   "execution_count": null,
   "metadata": {},
   "outputs": [],
   "source": [
    "#Add T to par\n",
    "par.T = 10\n",
    "\n",
    "#Solve using Backward Induction\n",
    "_,Vstar_bi = ex1.solve_backwards(beta=par.beta,W=par.W,T=par.T)\n",
    "\n",
    "fig = plt.figure(figsize=(10,5))# figsize is in inches...\n",
    "ax = fig.add_subplot(1,1,1)\n",
    "ax.plot(np.arange(par.W+1),Vstar, label = f'Value function iteration', linestyle = 'dashed', linewidth=4)\n",
    "for t in [0]+list(range(1,par.T,2)):\n",
    "    ax.plot(np.arange(par.W+1),Vstar_bi[:,t], label = f'Backward induction, $t = {t+1}$')\n",
    "ax.legend()\n",
    "ax.set_xlabel(f\"$W$\")\n",
    "ax.set_ylabel(f\"$V^\\star$\")\n",
    "plt.show()"
   ]
  },
  {
   "cell_type": "markdown",
   "metadata": {},
   "source": [
    "### 5. Vary $\\beta$ and check that the number of periods until convergence is increasing in $\\beta$. *What is the reason for this lower convergence?*"
   ]
  },
  {
   "cell_type": "code",
   "execution_count": null,
   "metadata": {},
   "outputs": [],
   "source": [
    "beta_vec = [0.3,0.5,0.75, 0.80, 0.85, 0.90,0.93, 0.96]\n",
    "it_vec = np.nan + np.zeros(len(beta_vec))\n",
    "W = 20\n",
    "\n",
    "for i,beta in enumerate(beta_vec):\n",
    "    \n",
    "    par.beta = beta\n",
    "    sol = solve_VFI(par)\n",
    "    it_vec[i] = sol.it\n"
   ]
  },
  {
   "cell_type": "code",
   "execution_count": null,
   "metadata": {},
   "outputs": [],
   "source": [
    "fig = plt.figure(figsize=(10,5))# figsize is in inches...\n",
    "\n",
    "ax = fig.add_subplot(1,1,1)\n",
    "ax.plot(beta_vec,it_vec)\n",
    "ax.set_xlabel(f\"$\\u03B2$\")\n",
    "ax.set_ylabel(\"Number of iterations\")\n",
    "plt.show()"
   ]
  },
  {
   "cell_type": "markdown",
   "metadata": {},
   "source": [
    "### 6. Simulate $C_1$, $C_2$,...,$C_{10}$ using the policy function found in 2) and W=5"
   ]
  },
  {
   "cell_type": "code",
   "execution_count": null,
   "metadata": {},
   "outputs": [],
   "source": [
    "#Solve the model using beta=0.90 and W=5\n",
    "par.beta = 0.90\n",
    "par.W = 5 #Maximum cake size\n",
    "\n",
    "sol = solve_VFI(par)\n",
    "Cstar, Vstar, _ = sol.C, sol.V, sol.it"
   ]
  },
  {
   "cell_type": "code",
   "execution_count": 12,
   "metadata": {},
   "outputs": [
    {
     "name": "stdout",
     "output_type": "stream",
     "text": [
      "Solution for C with T = 10 and W = 5 : C = [1. 1. 1. 1. 1. 0. 0. 0. 0. 0.]\n"
     ]
    }
   ],
   "source": [
    "# define function\n",
    "def simulate(Cstar,T,W):\n",
    "    C_vfi = np.empty(T)\n",
    "    W_now = W\n",
    "    for t in range(T):\n",
    "        W_now = int(W_now)   # change the type to integreger 0,1,2,3 and so on\n",
    "        C_vfi[t] = Cstar[W_now]  # Use the solution \n",
    "        W_now = W_now-C_vfi[t]\n",
    "    return C_vfi\n",
    "\n",
    "# 4. Simulate\n",
    "W = 5\n",
    "T = 10\n",
    "C_sim = simulate(Cstar,T,W)  # Call function\n",
    "        \n",
    "print('Solution for C with T =',T,'and W =', W , ': C =',C_sim)"
   ]
  }
 ],
 "metadata": {
  "kernelspec": {
   "display_name": "Python 3 (ipykernel)",
   "language": "python",
   "name": "python3"
  },
  "language_info": {
   "codemirror_mode": {
    "name": "ipython",
    "version": 3
   },
   "file_extension": ".py",
   "mimetype": "text/x-python",
   "name": "python",
   "nbconvert_exporter": "python",
   "pygments_lexer": "ipython3",
   "version": "3.9.16"
  },
  "vscode": {
   "interpreter": {
    "hash": "e426bf05754cca8d7bd83a0dce81a672af178a75fe45d0c3ca2f6c8ec8bbe319"
   }
  }
 },
 "nbformat": 4,
 "nbformat_minor": 4
}
